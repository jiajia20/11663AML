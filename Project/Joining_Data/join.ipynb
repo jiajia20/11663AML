{
 "cells": [
  {
   "cell_type": "code",
   "execution_count": 2,
   "metadata": {},
   "outputs": [],
   "source": [
    "import pandas as pd\n",
    "import json\n",
    "import glob"
   ]
  },
  {
   "cell_type": "code",
   "execution_count": 3,
   "metadata": {},
   "outputs": [],
   "source": [
    "def process (df):\n",
    "    #change data type\n",
    "    for i in range(len(df)):\n",
    "        val = df['maneuver'][i]\n",
    "        if val == 'NONE':\n",
    "            df['maneuver'][i] = '—'\n",
    "        elif (type(val) == str and 'choices' in val):\n",
    "            val = json.loads(val)\n",
    "            listToStr = ', '.join(val['choices'])\n",
    "            df['maneuver'][i] = listToStr\n",
    "\n",
    "    #change title\n",
    "    annotator = 'annotator_'+ df['annotator'][0].astype(str)\n",
    "    df_1 = df[['Node ID','MESSAGE','maneuver']]\n",
    "    df_1 = df_1.rename(columns={'maneuver':annotator})\n",
    "    return(df_1)"
   ]
  },
  {
   "cell_type": "code",
   "execution_count": 4,
   "metadata": {},
   "outputs": [
    {
     "name": "stderr",
     "output_type": "stream",
     "text": [
      "<ipython-input-3-52272ba2bcec>:6: SettingWithCopyWarning: \n",
      "A value is trying to be set on a copy of a slice from a DataFrame\n",
      "\n",
      "See the caveats in the documentation: https://pandas.pydata.org/pandas-docs/stable/user_guide/indexing.html#returning-a-view-versus-a-copy\n",
      "  df['maneuver'][i] = '—'\n"
     ]
    }
   ],
   "source": [
    "#initialize \n",
    "df0 = pd.read_csv('BlackPanther_1_aahmad1.csv')\n",
    "df0 = process(df0)\n"
   ]
  },
  {
   "cell_type": "markdown",
   "metadata": {},
   "source": [
    "# Testing the merge function"
   ]
  },
  {
   "cell_type": "code",
   "execution_count": 34,
   "metadata": {},
   "outputs": [
    {
     "name": "stderr",
     "output_type": "stream",
     "text": [
      "<ipython-input-3-52272ba2bcec>:10: SettingWithCopyWarning: \n",
      "A value is trying to be set on a copy of a slice from a DataFrame\n",
      "\n",
      "See the caveats in the documentation: https://pandas.pydata.org/pandas-docs/stable/user_guide/indexing.html#returning-a-view-versus-a-copy\n",
      "  df['maneuver'][i] = listToStr\n",
      "<ipython-input-3-52272ba2bcec>:6: SettingWithCopyWarning: \n",
      "A value is trying to be set on a copy of a slice from a DataFrame\n",
      "\n",
      "See the caveats in the documentation: https://pandas.pydata.org/pandas-docs/stable/user_guide/indexing.html#returning-a-view-versus-a-copy\n",
      "  df['maneuver'][i] = '—'\n"
     ]
    }
   ],
   "source": [
    "\n",
    "frames = []\n",
    "glued_data = pd.DataFrame()\n",
    "for file_name in glob.glob('/Users/cmu-work/Data/BEND/'+'*.csv'):\n",
    "    df = pd.read_csv(file_name)\n",
    "    df_p = process(df)\n",
    "    frames.append(df_p)\n",
    "    \n",
    "df = pd.concat(frames)"
   ]
  },
  {
   "cell_type": "code",
   "execution_count": 37,
   "metadata": {},
   "outputs": [],
   "source": [
    "df.to_csv('merged_by_anotator.csv')"
   ]
  },
  {
   "cell_type": "code",
   "execution_count": 55,
   "metadata": {},
   "outputs": [],
   "source": [
    "df[\"merge\"]= df.bfill(axis=1).iloc[:, 2:]"
   ]
  },
  {
   "cell_type": "code",
   "execution_count": 58,
   "metadata": {},
   "outputs": [],
   "source": [
    "df[['Node ID','MESSAGE','merge']].to_csv('merged_all.csv')"
   ]
  },
  {
   "cell_type": "code",
   "execution_count": 56,
   "metadata": {},
   "outputs": [],
   "source": [
    "df.to_csv('merged_all.csv')"
   ]
  },
  {
   "cell_type": "code",
   "execution_count": 38,
   "metadata": {},
   "outputs": [
    {
     "data": {
      "text/html": [
       "<div>\n",
       "<style scoped>\n",
       "    .dataframe tbody tr th:only-of-type {\n",
       "        vertical-align: middle;\n",
       "    }\n",
       "\n",
       "    .dataframe tbody tr th {\n",
       "        vertical-align: top;\n",
       "    }\n",
       "\n",
       "    .dataframe thead th {\n",
       "        text-align: right;\n",
       "    }\n",
       "</style>\n",
       "<table border=\"1\" class=\"dataframe\">\n",
       "  <thead>\n",
       "    <tr style=\"text-align: right;\">\n",
       "      <th></th>\n",
       "      <th>Node ID</th>\n",
       "      <th>MESSAGE</th>\n",
       "      <th>annotator_4</th>\n",
       "      <th>annotator_7</th>\n",
       "      <th>annotator_10</th>\n",
       "      <th>annotator_8</th>\n",
       "      <th>annotator_5</th>\n",
       "      <th>annotator_11</th>\n",
       "      <th>annotator_3</th>\n",
       "    </tr>\n",
       "  </thead>\n",
       "  <tbody>\n",
       "    <tr>\n",
       "      <th>0</th>\n",
       "      <td>9.345229e+17</td>\n",
       "      <td>Jeeez who knows when Michigan is going to win ...</td>\n",
       "      <td>Dismay, Neutralize</td>\n",
       "      <td>NaN</td>\n",
       "      <td>NaN</td>\n",
       "      <td>NaN</td>\n",
       "      <td>NaN</td>\n",
       "      <td>NaN</td>\n",
       "      <td>NaN</td>\n",
       "    </tr>\n",
       "    <tr>\n",
       "      <th>1</th>\n",
       "      <td>9.196929e+17</td>\n",
       "      <td>RT @justincsimon: Current NFC North QB Situati...</td>\n",
       "      <td>Explain</td>\n",
       "      <td>NaN</td>\n",
       "      <td>NaN</td>\n",
       "      <td>NaN</td>\n",
       "      <td>NaN</td>\n",
       "      <td>NaN</td>\n",
       "      <td>NaN</td>\n",
       "    </tr>\n",
       "    <tr>\n",
       "      <th>2</th>\n",
       "      <td>9.113876e+17</td>\n",
       "      <td>@Cwooo92  https://t.co/aRb7ES65Wa</td>\n",
       "      <td>Engage</td>\n",
       "      <td>NaN</td>\n",
       "      <td>NaN</td>\n",
       "      <td>NaN</td>\n",
       "      <td>NaN</td>\n",
       "      <td>NaN</td>\n",
       "      <td>NaN</td>\n",
       "    </tr>\n",
       "    <tr>\n",
       "      <th>3</th>\n",
       "      <td>9.501279e+17</td>\n",
       "      <td>RETWEET to help send @KevinLove to @NBAAllStar...</td>\n",
       "      <td>Engage, Excite, Back</td>\n",
       "      <td>NaN</td>\n",
       "      <td>NaN</td>\n",
       "      <td>NaN</td>\n",
       "      <td>NaN</td>\n",
       "      <td>NaN</td>\n",
       "      <td>NaN</td>\n",
       "    </tr>\n",
       "    <tr>\n",
       "      <th>4</th>\n",
       "      <td>9.131598e+17</td>\n",
       "      <td>Welcome to The Land, @DwyaneWade!  DETAILS: ht...</td>\n",
       "      <td>Engage, Explain</td>\n",
       "      <td>NaN</td>\n",
       "      <td>NaN</td>\n",
       "      <td>NaN</td>\n",
       "      <td>NaN</td>\n",
       "      <td>NaN</td>\n",
       "      <td>NaN</td>\n",
       "    </tr>\n",
       "  </tbody>\n",
       "</table>\n",
       "</div>"
      ],
      "text/plain": [
       "        Node ID                                            MESSAGE  \\\n",
       "0  9.345229e+17  Jeeez who knows when Michigan is going to win ...   \n",
       "1  9.196929e+17  RT @justincsimon: Current NFC North QB Situati...   \n",
       "2  9.113876e+17                  @Cwooo92  https://t.co/aRb7ES65Wa   \n",
       "3  9.501279e+17  RETWEET to help send @KevinLove to @NBAAllStar...   \n",
       "4  9.131598e+17  Welcome to The Land, @DwyaneWade!  DETAILS: ht...   \n",
       "\n",
       "            annotator_4 annotator_7 annotator_10 annotator_8 annotator_5  \\\n",
       "0    Dismay, Neutralize         NaN          NaN         NaN         NaN   \n",
       "1               Explain         NaN          NaN         NaN         NaN   \n",
       "2                Engage         NaN          NaN         NaN         NaN   \n",
       "3  Engage, Excite, Back         NaN          NaN         NaN         NaN   \n",
       "4       Engage, Explain         NaN          NaN         NaN         NaN   \n",
       "\n",
       "  annotator_11 annotator_3  \n",
       "0          NaN         NaN  \n",
       "1          NaN         NaN  \n",
       "2          NaN         NaN  \n",
       "3          NaN         NaN  \n",
       "4          NaN         NaN  "
      ]
     },
     "execution_count": 38,
     "metadata": {},
     "output_type": "execute_result"
    }
   ],
   "source": [
    "df.head()"
   ]
  },
  {
   "cell_type": "markdown",
   "metadata": {},
   "source": [
    "# Testing Archive"
   ]
  },
  {
   "cell_type": "code",
   "execution_count": 55,
   "metadata": {},
   "outputs": [],
   "source": [
    "\n",
    "# extract\n",
    "df2_1 = df2[['Node ID','maneuver']]\n",
    "\n",
    "#clean the result \n",
    "\n",
    "\n",
    "# rename\n",
    "annotator = 'annotator_'+ df2['annotator'][0].astype(str)\n",
    "df2_1 = df2_1.rename(columns={'maneuver':annotator})"
   ]
  },
  {
   "cell_type": "code",
   "execution_count": 31,
   "metadata": {},
   "outputs": [
    {
     "data": {
      "text/plain": [
       "'Distort, Dismay, Boost'"
      ]
     },
     "execution_count": 31,
     "metadata": {},
     "output_type": "execute_result"
    }
   ],
   "source": [
    "val = json.loads(df2_1['annotator_5'][0])\n",
    "listToStr = ', '.join(val['choices'])\n",
    "listToStr"
   ]
  },
  {
   "cell_type": "code",
   "execution_count": null,
   "metadata": {},
   "outputs": [],
   "source": [
    "import glob\n",
    "import pandas as pd\n",
    "\n",
    "glued_data = pd.DataFrame()\n",
    "for file_name in glob.glob('/Users/cmu-work/Data/BEND/'+'*.csv'):\n",
    "    x = pd.read_csv(file_name, low_memory=False)\n",
    "    glued_data = pd.concat([glued_data,x],axis=0)"
   ]
  }
 ],
 "metadata": {
  "kernelspec": {
   "display_name": "Python 3.8.8 ('base')",
   "language": "python",
   "name": "python3"
  },
  "language_info": {
   "codemirror_mode": {
    "name": "ipython",
    "version": 3
   },
   "file_extension": ".py",
   "mimetype": "text/x-python",
   "name": "python",
   "nbconvert_exporter": "python",
   "pygments_lexer": "ipython3",
   "version": "3.8.8"
  },
  "orig_nbformat": 4,
  "vscode": {
   "interpreter": {
    "hash": "a7ef0543ba5740bb3b86eecce7fad09724032156fad1b7664eb28f0ada8e7072"
   }
  }
 },
 "nbformat": 4,
 "nbformat_minor": 2
}
