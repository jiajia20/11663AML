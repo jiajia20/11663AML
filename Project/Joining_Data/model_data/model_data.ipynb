{
 "cells": [
  {
   "cell_type": "code",
   "execution_count": 1,
   "metadata": {},
   "outputs": [],
   "source": [
    "import pandas as pd\n",
    "import sklearn"
   ]
  },
  {
   "cell_type": "code",
   "execution_count": 2,
   "metadata": {},
   "outputs": [],
   "source": [
    "data = pd.read_csv('merged_all.csv')\n",
    "data = sklearn.utils.shuffle(data)"
   ]
  },
  {
   "cell_type": "code",
   "execution_count": 15,
   "metadata": {},
   "outputs": [],
   "source": [
    "def is_dismay(row):\n",
    "    if 'Dismay' in row['merge']:\n",
    "        return(1)\n",
    "    else:\n",
    "        return(0)\n",
    "\n",
    "def is_excite(row):\n",
    "    if 'Excite' in row['merge']:\n",
    "        return(1)\n",
    "    else:\n",
    "        return(0)\n",
    "\n",
    "data['Dismay'] = data.apply (lambda row: is_dismay(row), axis=1)\n",
    "data['Excite'] = data.apply (lambda row: is_excite(row), axis=1)"
   ]
  },
  {
   "cell_type": "code",
   "execution_count": 21,
   "metadata": {},
   "outputs": [],
   "source": [
    "# 70% experiment, 20% dev, 10% test \n",
    "train_size = int(data.shape[0]*0.7) \n",
    "dev_size = int(data.shape[0]*0.2) \n",
    "test_size = int(data.shape[0]*0.1) \n"
   ]
  },
  {
   "cell_type": "code",
   "execution_count": 33,
   "metadata": {},
   "outputs": [],
   "source": [
    "train_data = data.iloc[0:train_size]\n",
    "dev_data = data.iloc[train_size:train_size + dev_size]\n",
    "test_data = data.iloc[train_size + dev_size:]"
   ]
  },
  {
   "cell_type": "code",
   "execution_count": 34,
   "metadata": {},
   "outputs": [],
   "source": [
    "train_data.to_csv('train_data.csv')\n",
    "dev_data.to_csv('dev_data.csv')\n",
    "test_data.to_csv('test_data.csv')"
   ]
  },
  {
   "cell_type": "code",
   "execution_count": null,
   "metadata": {},
   "outputs": [],
   "source": [
    "dev_data = data.iloc[0:dev_size]\n",
    "cv_data = data.iloc[dev_size:]"
   ]
  }
 ],
 "metadata": {
  "kernelspec": {
   "display_name": "Python 3.8.8 ('base')",
   "language": "python",
   "name": "python3"
  },
  "language_info": {
   "codemirror_mode": {
    "name": "ipython",
    "version": 3
   },
   "file_extension": ".py",
   "mimetype": "text/x-python",
   "name": "python",
   "nbconvert_exporter": "python",
   "pygments_lexer": "ipython3",
   "version": "3.8.8"
  },
  "orig_nbformat": 4,
  "vscode": {
   "interpreter": {
    "hash": "a7ef0543ba5740bb3b86eecce7fad09724032156fad1b7664eb28f0ada8e7072"
   }
  }
 },
 "nbformat": 4,
 "nbformat_minor": 2
}
